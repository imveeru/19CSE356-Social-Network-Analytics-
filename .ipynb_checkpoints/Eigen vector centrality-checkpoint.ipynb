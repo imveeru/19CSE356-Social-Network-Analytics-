{
 "cells": [
  {
   "cell_type": "code",
   "execution_count": 24,
   "id": "8963e260",
   "metadata": {},
   "outputs": [],
   "source": [
    "import numpy as np\n",
    "import math"
   ]
  },
  {
   "cell_type": "code",
   "execution_count": 25,
   "id": "738966a0",
   "metadata": {},
   "outputs": [],
   "source": [
    "graph={\n",
    "    1:[2],\n",
    "    2:[1,4],\n",
    "    3:[4,5],\n",
    "    4:[2,3,5],\n",
    "    5:[3,4]\n",
    "}"
   ]
  },
  {
   "cell_type": "code",
   "execution_count": 26,
   "id": "7f7284b3",
   "metadata": {},
   "outputs": [
    {
     "data": {
      "text/plain": [
       "[[0, 0, 0, 0, 0],\n",
       " [0, 0, 0, 0, 0],\n",
       " [0, 0, 0, 0, 0],\n",
       " [0, 0, 0, 0, 0],\n",
       " [0, 0, 0, 0, 0]]"
      ]
     },
     "execution_count": 26,
     "metadata": {},
     "output_type": "execute_result"
    }
   ],
   "source": [
    "ADJ_MAT=[[0 for _ in range(len(graph))] for _ in range(len(graph))]\n",
    "ADJ_MAT"
   ]
  },
  {
   "cell_type": "code",
   "execution_count": 27,
   "id": "8fb01d17",
   "metadata": {},
   "outputs": [
    {
     "name": "stdout",
     "output_type": "stream",
     "text": [
      "0 1\n",
      "1 0\n",
      "1 3\n",
      "2 3\n",
      "2 4\n",
      "3 1\n",
      "3 2\n",
      "3 4\n",
      "4 2\n",
      "4 3\n"
     ]
    }
   ],
   "source": [
    "for i in graph:\n",
    "    if graph[i]:\n",
    "        for j in graph[i]:\n",
    "            print(i-1,j-1)\n",
    "            ADJ_MAT[i-1][j-1]=1"
   ]
  },
  {
   "cell_type": "code",
   "execution_count": 28,
   "id": "3a55d5d6",
   "metadata": {},
   "outputs": [
    {
     "data": {
      "text/plain": [
       "[[0, 1, 0, 0, 0],\n",
       " [1, 0, 0, 1, 0],\n",
       " [0, 0, 0, 1, 1],\n",
       " [0, 1, 1, 0, 1],\n",
       " [0, 0, 1, 1, 0]]"
      ]
     },
     "execution_count": 28,
     "metadata": {},
     "output_type": "execute_result"
    }
   ],
   "source": [
    "ADJ_MAT"
   ]
  },
  {
   "cell_type": "code",
   "execution_count": 29,
   "id": "455afa52",
   "metadata": {},
   "outputs": [
    {
     "data": {
      "text/plain": [
       "[[1], [1], [1], [1], [1]]"
      ]
     },
     "execution_count": 29,
     "metadata": {},
     "output_type": "execute_result"
    }
   ],
   "source": [
    "EIG_MAT=[[1] for _ in range(len(graph))]\n",
    "EIG_MAT"
   ]
  },
  {
   "cell_type": "code",
   "execution_count": 30,
   "id": "ea459134",
   "metadata": {},
   "outputs": [
    {
     "data": {
      "text/plain": [
       "array([[1],\n",
       "       [2],\n",
       "       [2],\n",
       "       [3],\n",
       "       [2]])"
      ]
     },
     "execution_count": 30,
     "metadata": {},
     "output_type": "execute_result"
    }
   ],
   "source": [
    "res=np.dot(ADJ_MAT,EIG_MAT)\n",
    "res"
   ]
  },
  {
   "cell_type": "code",
   "execution_count": 34,
   "id": "ad8c480e",
   "metadata": {},
   "outputs": [],
   "source": [
    "def get_normalized_value(res):\n",
    "    sum=0\n",
    "    for n in res:\n",
    "        sum=sum+(n*n)\n",
    "    return round(math.sqrt(sum),3)"
   ]
  },
  {
   "cell_type": "code",
   "execution_count": null,
   "id": "a347fa82",
   "metadata": {},
   "outputs": [],
   "source": [
    "res=np.dot(ADJ_MAT,EIG_MAT)\n",
    "norm_val=get_normalized_value(res)\n",
    "new_res=res/norm_val\n",
    "print(new_res)\n",
    "norm_val_diff=0"
   ]
  }
 ],
 "metadata": {
  "kernelspec": {
   "display_name": "Python 3 (ipykernel)",
   "language": "python",
   "name": "python3"
  },
  "language_info": {
   "codemirror_mode": {
    "name": "ipython",
    "version": 3
   },
   "file_extension": ".py",
   "mimetype": "text/x-python",
   "name": "python",
   "nbconvert_exporter": "python",
   "pygments_lexer": "ipython3",
   "version": "3.9.13"
  }
 },
 "nbformat": 4,
 "nbformat_minor": 5
}
