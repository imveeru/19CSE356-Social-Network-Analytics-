{
 "cells": [
  {
   "cell_type": "code",
   "execution_count": 1,
   "id": "2978b1b2",
   "metadata": {},
   "outputs": [],
   "source": [
    "import numpy as np"
   ]
  },
  {
   "cell_type": "code",
   "execution_count": 2,
   "id": "aed1955b",
   "metadata": {},
   "outputs": [],
   "source": [
    "graph={\n",
    "    1:[2],\n",
    "    2:[1,4],\n",
    "    3:[4,5],\n",
    "    4:[2,3,5],\n",
    "    5:[3,4]\n",
    "}"
   ]
  },
  {
   "cell_type": "code",
   "execution_count": null,
   "id": "ef1fe0b9",
   "metadata": {},
   "outputs": [],
   "source": [
    "ADJ_MAT=[[] for _ in range()]"
   ]
  }
 ],
 "metadata": {
  "kernelspec": {
   "display_name": "Python 3 (ipykernel)",
   "language": "python",
   "name": "python3"
  },
  "language_info": {
   "codemirror_mode": {
    "name": "ipython",
    "version": 3
   },
   "file_extension": ".py",
   "mimetype": "text/x-python",
   "name": "python",
   "nbconvert_exporter": "python",
   "pygments_lexer": "ipython3",
   "version": "3.9.13"
  }
 },
 "nbformat": 4,
 "nbformat_minor": 5
}
