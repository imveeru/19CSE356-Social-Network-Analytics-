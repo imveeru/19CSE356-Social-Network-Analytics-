{
 "cells": [
  {
   "cell_type": "code",
   "execution_count": 1,
   "id": "74b02dec",
   "metadata": {},
   "outputs": [],
   "source": [
    "import numpy as np\n",
    "import math"
   ]
  },
  {
   "cell_type": "code",
   "execution_count": 2,
   "id": "905a0857",
   "metadata": {},
   "outputs": [],
   "source": [
    "graph={\n",
    "    1:[2],\n",
    "    2:[1,4],\n",
    "    3:[4,5],\n",
    "    4:[2,3,5],\n",
    "    5:[3,4]\n",
    "}"
   ]
  },
  {
   "cell_type": "code",
   "execution_count": 3,
   "id": "127f4936",
   "metadata": {},
   "outputs": [
    {
     "data": {
      "text/plain": [
       "[[0, 0, 0, 0, 0],\n",
       " [0, 0, 0, 0, 0],\n",
       " [0, 0, 0, 0, 0],\n",
       " [0, 0, 0, 0, 0],\n",
       " [0, 0, 0, 0, 0]]"
      ]
     },
     "execution_count": 3,
     "metadata": {},
     "output_type": "execute_result"
    }
   ],
   "source": [
    "ADJ_MAT=[[0 for _ in range(len(graph))] for _ in range(len(graph))]\n",
    "ADJ_MAT"
   ]
  },
  {
   "cell_type": "code",
   "execution_count": 4,
   "id": "5e4f53cf",
   "metadata": {},
   "outputs": [
    {
     "name": "stdout",
     "output_type": "stream",
     "text": [
      "0 1\n",
      "1 0\n",
      "1 3\n",
      "2 3\n",
      "2 4\n",
      "3 1\n",
      "3 2\n",
      "3 4\n",
      "4 2\n",
      "4 3\n"
     ]
    }
   ],
   "source": [
    "for i in graph:\n",
    "    if graph[i]:\n",
    "        for j in graph[i]:\n",
    "            print(i-1,j-1)\n",
    "            ADJ_MAT[i-1][j-1]=1"
   ]
  },
  {
   "cell_type": "code",
   "execution_count": 5,
   "id": "db3e13d4",
   "metadata": {},
   "outputs": [
    {
     "data": {
      "text/plain": [
       "[[0, 1, 0, 0, 0],\n",
       " [1, 0, 0, 1, 0],\n",
       " [0, 0, 0, 1, 1],\n",
       " [0, 1, 1, 0, 1],\n",
       " [0, 0, 1, 1, 0]]"
      ]
     },
     "execution_count": 5,
     "metadata": {},
     "output_type": "execute_result"
    }
   ],
   "source": [
    "ADJ_MAT"
   ]
  },
  {
   "cell_type": "code",
   "execution_count": 6,
   "id": "bc1bc4eb",
   "metadata": {},
   "outputs": [
    {
     "data": {
      "text/plain": [
       "[[1], [1], [1], [1], [1]]"
      ]
     },
     "execution_count": 6,
     "metadata": {},
     "output_type": "execute_result"
    }
   ],
   "source": [
    "EIG_MAT=[[1] for _ in range(len(graph))]\n",
    "EIG_MAT"
   ]
  },
  {
   "cell_type": "code",
   "execution_count": 7,
   "id": "038e1177",
   "metadata": {},
   "outputs": [
    {
     "data": {
      "text/plain": [
       "array([[1],\n",
       "       [2],\n",
       "       [2],\n",
       "       [3],\n",
       "       [2]])"
      ]
     },
     "execution_count": 7,
     "metadata": {},
     "output_type": "execute_result"
    }
   ],
   "source": [
    "res=np.dot(ADJ_MAT,EIG_MAT)\n",
    "res"
   ]
  },
  {
   "cell_type": "code",
   "execution_count": 8,
   "id": "8bc80e07",
   "metadata": {},
   "outputs": [],
   "source": [
    "def get_normalized_value(res):\n",
    "    sum=0\n",
    "    for n in res:\n",
    "        sum=sum+(n*n)\n",
    "    return round(math.sqrt(sum),3)"
   ]
  },
  {
   "cell_type": "code",
   "execution_count": 14,
   "id": "d8bb1d49",
   "metadata": {},
   "outputs": [
    {
     "name": "stdout",
     "output_type": "stream",
     "text": [
      "Eigent vectors @ iteration #1 \n",
      "[[0.21321962]\n",
      " [0.42643923]\n",
      " [0.42643923]\n",
      " [0.63965885]\n",
      " [0.42643923]]\n"
     ]
    }
   ],
   "source": [
    "norm_val_diff=float('inf')\n",
    "old_norm_val=0\n",
    "i=0\n",
    "while norm_val_diff>0.1:\n",
    "    i+=1\n",
    "    res=np.dot(ADJ_MAT,EIG_MAT)\n",
    "    norm_val=get_normalized_value(res)\n",
    "    new_res=res/norm_val\n",
    "    print(f'Eigent vectors @ iteration #{i} \\n{new_res}')\n",
    "    norm_val_diff=norm_val-old_norm_val\n",
    "    old_norm_val=norm_val\n",
    "    "
   ]
  }
 ],
 "metadata": {
  "kernelspec": {
   "display_name": "Python 3 (ipykernel)",
   "language": "python",
   "name": "python3"
  },
  "language_info": {
   "codemirror_mode": {
    "name": "ipython",
    "version": 3
   },
   "file_extension": ".py",
   "mimetype": "text/x-python",
   "name": "python",
   "nbconvert_exporter": "python",
   "pygments_lexer": "ipython3",
   "version": "3.9.13"
  }
 },
 "nbformat": 4,
 "nbformat_minor": 5
}
